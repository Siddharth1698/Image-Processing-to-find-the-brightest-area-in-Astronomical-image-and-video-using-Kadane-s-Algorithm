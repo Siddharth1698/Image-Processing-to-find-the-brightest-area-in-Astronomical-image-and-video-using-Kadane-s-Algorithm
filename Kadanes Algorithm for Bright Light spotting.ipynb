{
 "cells": [
  {
   "cell_type": "code",
   "execution_count": 8,
   "metadata": {},
   "outputs": [
    {
     "name": "stdout",
     "output_type": "stream",
     "text": [
      "[[51 62 79 ... 21 67 45]\n",
      " [68 75 81 ... 15 26 16]\n",
      " [61 70 77 ... 12 22 33]\n",
      " ...\n",
      " [35 25  3 ... 30 11 20]\n",
      " [23 39 21 ... 47 37 43]\n",
      " [ 1 22 24 ... 35 38 72]]\n"
     ]
    }
   ],
   "source": [
    "#import the necessary packages\n",
    "import numpy as np\n",
    "import cv2\n",
    "\n",
    "image = cv2.imread(\"retina.jpg\")\n",
    "orig = image.copy()\n",
    "gray1 = cv2.cvtColor(image, cv2.COLOR_BGR2GRAY)\n",
    "gray1 = gray1.astype(np.int16)\n",
    "gray1 \n",
    "\n",
    "print(gray1)\n",
    "# perform a naive attempt to find the (x, y) coordinates of\n",
    "# the area of the image with the largest intensity value\n",
    "\n",
    "# apply a Gaussian blur to the image then find the brightest\n",
    "# region\n",
    "gray = cv2.GaussianBlur(gray1,(41,41),0)\n",
    "(minVal, maxVal, minLoc, maxLoc) = cv2.minMaxLoc(gray)\n",
    "image = orig.copy()\n",
    "cv2.circle(image, (436,190), 41, (255, 0, 0), 2)\n",
    "# display the results of our newly improved method\n",
    "cv2.imshow(\"Robust\", image)\n",
    "cv2.waitKey(0)\n",
    "cv2.destroyAllWindows()"
   ]
  },
  {
   "cell_type": "code",
   "execution_count": 2,
   "metadata": {},
   "outputs": [
    {
     "data": {
      "text/plain": [
       "array([[ -1,  10,  27, ..., -31,  15,  -7],\n",
       "       [ 16,  23,  29, ..., -37, -26, -36],\n",
       "       [  9,  18,  25, ..., -40, -30, -19],\n",
       "       ...,\n",
       "       [-17, -27, -49, ..., -22, -41, -32],\n",
       "       [-29, -13, -31, ...,  -5, -15,  -9],\n",
       "       [-51, -30, -28, ..., -17, -14,  20]], dtype=int16)"
      ]
     },
     "execution_count": 2,
     "metadata": {},
     "output_type": "execute_result"
    }
   ],
   "source": [
    "gray1 = gray1 - 52\n",
    "gray1"
   ]
  },
  {
   "cell_type": "code",
   "execution_count": 3,
   "metadata": {},
   "outputs": [
    {
     "data": {
      "text/plain": [
       "(441, 187)"
      ]
     },
     "execution_count": 3,
     "metadata": {},
     "output_type": "execute_result"
    }
   ],
   "source": [
    "maxLoc"
   ]
  },
  {
   "cell_type": "code",
   "execution_count": 6,
   "metadata": {},
   "outputs": [
    {
     "name": "stdout",
     "output_type": "stream",
     "text": [
      "(Top, Left) ( 164 409 )\n",
      "(Bottom, Right) ( 217 464 )\n",
      "Max sum is: 103486\n"
     ]
    }
   ],
   "source": [
    "global Rightrow \n",
    "global Rightcol \n",
    "global Leftcol \n",
    "global Leftrow \n",
    "def kadane(arr, start, finish, n):\n",
    "\n",
    "    Sum = 0\n",
    "    maxSum = -999999999999\n",
    "    i = None\n",
    "\n",
    "    finish[0] = -1\n",
    "\n",
    "    local_start = 0\n",
    " \n",
    "    for i in range(n):\n",
    "        Sum += arr[i]\n",
    "        if Sum < 0:\n",
    "            Sum = 0\n",
    "            local_start = i + 1\n",
    "        elif Sum > maxSum:\n",
    "            maxSum = Sum\n",
    "            start[0] = local_start\n",
    "            finish[0] = i\n",
    "\n",
    "    if finish[0] != -1:\n",
    "        return maxSum\n",
    "\n",
    "    maxSum = arr[0]\n",
    "    start[0] = finish[0] = 0\n",
    "\n",
    "    for i in range(1, n):\n",
    "        if arr[i] > maxSum:\n",
    "            maxSum = arr[i]\n",
    "            start[0] = finish[0] = i\n",
    "    return maxSum\n",
    "\n",
    "def findMaxSum(M):\n",
    "    global ROW, COL\n",
    "\n",
    "    maxSum, finalLeft = -999999999999, None\n",
    "    finalRight, finalTop, finalBottom = None, None, None\n",
    "    left, right, i = None, None, None\n",
    " \n",
    "    temp = [None] * ROW\n",
    "    Sum = 0\n",
    "    start = [0]\n",
    "    finish = [0]\n",
    "\n",
    "    for left in range(COL):\n",
    "\n",
    "        temp = [0] * ROW\n",
    "\n",
    "        for right in range(left, COL):\n",
    "\n",
    "            for i in range(ROW):\n",
    "                temp[i] += M[i][right]\n",
    "\n",
    "            Sum = kadane(temp, start, finish, ROW)\n",
    "\n",
    "            if Sum > maxSum:\n",
    "                maxSum = Sum\n",
    "                finalLeft = left\n",
    "                finalRight = right\n",
    "                finalTop = start[0]\n",
    "                finalBottom = finish[0]\n",
    " \n",
    "    # Prfinal values\n",
    "    Leftrow = finalTop\n",
    "    Leftcol = finalLeft    \n",
    "    print(\"(Top, Left)\", \"(\", finalTop,\n",
    "          finalLeft, \")\")\n",
    "    Rightrow = finalRight\n",
    "    Rightcol = finalBottom\n",
    "    print(\"(Bottom, Right)\", \"(\", finalBottom,\n",
    "          finalRight, \")\")\n",
    "    print(\"Max sum is:\", maxSum)\n",
    "    \n",
    " \n",
    " \n",
    "# Driver Code\n",
    "\n",
    "ROW = 370\n",
    "COL = 600\n",
    "\n",
    "# Function call\n",
    "findMaxSum(gray1)"
   ]
  },
  {
   "cell_type": "code",
   "execution_count": null,
   "metadata": {},
   "outputs": [],
   "source": []
  }
 ],
 "metadata": {
  "kernelspec": {
   "display_name": "Python 3",
   "language": "python",
   "name": "python3"
  },
  "language_info": {
   "codemirror_mode": {
    "name": "ipython",
    "version": 3
   },
   "file_extension": ".py",
   "mimetype": "text/x-python",
   "name": "python",
   "nbconvert_exporter": "python",
   "pygments_lexer": "ipython3",
   "version": "3.7.6"
  }
 },
 "nbformat": 4,
 "nbformat_minor": 4
}
