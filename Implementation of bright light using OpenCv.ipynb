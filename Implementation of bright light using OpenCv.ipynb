{
 "cells": [
  {
   "cell_type": "code",
   "execution_count": 2,
   "metadata": {},
   "outputs": [],
   "source": [
    "#import the necessary packages\n",
    "import numpy as np\n",
    "import cv2\n",
    "# load the image and convert it to grayscale\n",
    "image = cv2.imread(\"retina.jpg\")\n",
    "orig = image.copy()\n",
    "gray = cv2.cvtColor(image, cv2.COLOR_BGR2GRAY)\n",
    "# apply a Gaussian blur to the image then find the brightest\n",
    "# region\n",
    "gray = cv2.GaussianBlur(gray,(41,41),0)\n",
    "(minVal, maxVal, minLoc, maxLoc) = cv2.minMaxLoc(gray)\n",
    "image = orig.copy()\n",
    "cv2.circle(image, maxLoc, 41, (255, 0, 0), 2)\n",
    "# display the results of our newly improved method\n",
    "cv2.imshow(\"Robust\", image)\n",
    "cv2.waitKey(0)\n",
    "cv2.destroyAllWindows()\n"
   ]
  },
  {
   "cell_type": "code",
   "execution_count": null,
   "metadata": {},
   "outputs": [],
   "source": []
  }
 ],
 "metadata": {
  "kernelspec": {
   "display_name": "Python 3",
   "language": "python",
   "name": "python3"
  },
  "language_info": {
   "codemirror_mode": {
    "name": "ipython",
    "version": 3
   },
   "file_extension": ".py",
   "mimetype": "text/x-python",
   "name": "python",
   "nbconvert_exporter": "python",
   "pygments_lexer": "ipython3",
   "version": "3.7.6"
  }
 },
 "nbformat": 4,
 "nbformat_minor": 4
}
